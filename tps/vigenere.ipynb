{
 "cells": [
  {
   "cell_type": "markdown",
   "id": "08512be3-f75b-4bfd-b06d-5cdbfba01576",
   "metadata": {},
   "source": [
    "# Cifrario di Vigenère"
   ]
  },
  {
   "cell_type": "markdown",
   "id": "14087884-0479-4c30-a8a9-02b55c667fa7",
   "metadata": {},
   "source": [
    "## Teoria\n",
    "Il cifrario di Vigenère si basa su un semplice cifrario di Cesare.\n",
    "La chiave di esso però cambia per ogni lettera seguendo una stringa (_chiave_/_verme_).\n",
    "\n",
    "Quindi per la prima lettera viene usata la codifica seguendo la prima lettera della chiave, la seconda con la seconda della chiave e così via.\n",
    "Quando la chiave termina viene ripetuta."
   ]
  },
  {
   "cell_type": "markdown",
   "id": "610c5759-4c00-44bd-be32-01f9a604ed36",
   "metadata": {},
   "source": [
    "## Pratica"
   ]
  },
  {
   "cell_type": "code",
   "execution_count": 16,
   "id": "4075b838-ac92-4590-94bf-52ec9542cddf",
   "metadata": {},
   "outputs": [],
   "source": [
    "import string\n",
    "ALPHABET = string.ascii_lowercase\n",
    "VERME = 'chiave'\n",
    "TO_CRYPT = 'segreto da non rivelare'"
   ]
  },
  {
   "cell_type": "code",
   "execution_count": 17,
   "id": "f362c719-c7ca-40a1-9b6e-4ba14ba5c77f",
   "metadata": {},
   "outputs": [
    {
     "name": "stdout",
     "output_type": "stream",
     "text": [
      "[2, 7, 8, 0, 21, 4]\n"
     ]
    }
   ],
   "source": [
    "# calcola lo shift del verme\n",
    "verme_shift = list()\n",
    "for lettera in VERME:\n",
    "    index = ALPHABET.index(lettera)\n",
    "    verme_shift.append(index)\n",
    "\n",
    "print(verme_shift)"
   ]
  },
  {
   "cell_type": "code",
   "execution_count": 18,
   "id": "cef46b7d-0d47-441b-b60e-57eb3a1eb715",
   "metadata": {},
   "outputs": [
    {
     "name": "stdout",
     "output_type": "stream",
     "text": [
      "ulorzxq la rqu rdzgsirz\n"
     ]
    }
   ],
   "source": [
    "crypted = ''\n",
    "for i, lettera in enumerate(TO_CRYPT):\n",
    "    if lettera in ALPHABET:\n",
    "        letter_index = ALPHABET.index(lettera)\n",
    "        shift = verme_shift[i%len(VERME)]\n",
    "        nuova_letter_index = (letter_index + shift)%len(ALPHABET)\n",
    "        nuova_lettera = ALPHABET[nuova_letter_index]\n",
    "        crypted += nuova_lettera\n",
    "    else:\n",
    "        crypted += lettera\n",
    "\n",
    "print(crypted)"
   ]
  }
 ],
 "metadata": {
  "kernelspec": {
   "display_name": "Python 3 (ipykernel)",
   "language": "python",
   "name": "python3"
  },
  "language_info": {
   "codemirror_mode": {
    "name": "ipython",
    "version": 3
   },
   "file_extension": ".py",
   "mimetype": "text/x-python",
   "name": "python",
   "nbconvert_exporter": "python",
   "pygments_lexer": "ipython3",
   "version": "3.10.7"
  },
  "toc-autonumbering": false,
  "toc-showmarkdowntxt": false,
  "toc-showtags": false
 },
 "nbformat": 4,
 "nbformat_minor": 5
}
