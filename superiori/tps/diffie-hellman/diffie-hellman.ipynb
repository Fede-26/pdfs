{
 "cells": [
  {
   "cell_type": "markdown",
   "id": "36e58826-b040-4f4e-a1bd-6fe3e108e6bb",
   "metadata": {},
   "source": [
    "# Diffie Hellman key exchange"
   ]
  },
  {
   "cell_type": "markdown",
   "id": "bfb6a1c1-bc60-4e9d-8fcd-636c356ddb8b",
   "metadata": {},
   "source": [
    "## Descrizione\n",
    "Viene utilizzato per negoziare una chiave segreta senza trasmetterla."
   ]
  },
  {
   "cell_type": "markdown",
   "id": "432497a0-8bef-4a94-bb73-7d69db9c8b95",
   "metadata": {},
   "source": [
    "## Procedimento\n",
    "- $g = 265$\n",
    "- $P =$ primo(\"grande\")\n",
    "- $a =$ casuale\n",
    "- $b =$ casuale\n",
    "- $A = g^a \\% p$\n",
    "- $B = g^b \\% p$"
   ]
  },
  {
   "cell_type": "markdown",
   "id": "0cb869d8-519c-42c0-b4b7-e8b774b00770",
   "metadata": {},
   "source": [
    "### Generazione chiavi intermedie"
   ]
  },
  {
   "cell_type": "code",
   "execution_count": 1,
   "id": "013e5134-93c3-420c-b74c-35cd7fc1c95b",
   "metadata": {},
   "outputs": [
    {
     "name": "stdout",
     "output_type": "stream",
     "text": [
      "265\n",
      "170141183460469231731687303715884105727\n",
      "100468149154012945109211358487394454866\n"
     ]
    }
   ],
   "source": [
    "from random import randint\n",
    "\n",
    "# CLIENT A\n",
    "\n",
    "g = 265\n",
    "P = 2**127-1\n",
    "a = randint(100, 10000)\n",
    "\n",
    "A = ( g**a ) % P\n",
    "\n",
    "# trasmessi:\n",
    "print(g)\n",
    "print(P)\n",
    "print(A)"
   ]
  },
  {
   "cell_type": "code",
   "execution_count": 2,
   "id": "edff5baa-87db-4486-98f1-90f4f7d769a2",
   "metadata": {},
   "outputs": [
    {
     "name": "stdout",
     "output_type": "stream",
     "text": [
      "92970624912426329491514596993598347898\n"
     ]
    }
   ],
   "source": [
    "# CLIENT B\n",
    "\n",
    "b = randint(100, 10000)\n",
    "\n",
    "B = ( g**b ) % P\n",
    "\n",
    "print(B)"
   ]
  },
  {
   "cell_type": "markdown",
   "id": "9d64c557-9846-4cc4-a65c-c41c69c75f44",
   "metadata": {},
   "source": [
    "### Generazione chiave"
   ]
  },
  {
   "cell_type": "code",
   "execution_count": 3,
   "id": "f7f53a0a-689a-4943-9c81-0da5a7476727",
   "metadata": {},
   "outputs": [
    {
     "name": "stdout",
     "output_type": "stream",
     "text": [
      "112346438519136498128656281459096927081\n"
     ]
    }
   ],
   "source": [
    "# CLIENT A\n",
    "secretA = ( B**a ) % P\n",
    "\n",
    "print(secretA)"
   ]
  },
  {
   "cell_type": "code",
   "execution_count": 4,
   "id": "3c4f9b5a-290c-4fcb-9535-6dd29bfeedf9",
   "metadata": {},
   "outputs": [
    {
     "name": "stdout",
     "output_type": "stream",
     "text": [
      "112346438519136498128656281459096927081\n"
     ]
    }
   ],
   "source": [
    "# CLIENT B\n",
    "secretB = ( A**b ) % P\n",
    "\n",
    "print(secretB)"
   ]
  }
 ],
 "metadata": {
  "kernelspec": {
   "display_name": "Python 3 (ipykernel)",
   "language": "python",
   "name": "python3"
  },
  "language_info": {
   "codemirror_mode": {
    "name": "ipython",
    "version": 3
   },
   "file_extension": ".py",
   "mimetype": "text/x-python",
   "name": "python",
   "nbconvert_exporter": "python",
   "pygments_lexer": "ipython3",
   "version": "3.10.8"
  }
 },
 "nbformat": 4,
 "nbformat_minor": 5
}
